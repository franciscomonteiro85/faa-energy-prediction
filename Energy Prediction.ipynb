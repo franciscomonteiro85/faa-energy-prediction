{
 "cells": [
  {
   "cell_type": "code",
   "execution_count": 24,
   "id": "8cdff495",
   "metadata": {},
   "outputs": [
    {
     "ename": "ModuleNotFoundError",
     "evalue": "No module named 'tensorflow'",
     "output_type": "error",
     "traceback": [
      "\u001b[1;31m---------------------------------------------------------------------------\u001b[0m",
      "\u001b[1;31mModuleNotFoundError\u001b[0m                       Traceback (most recent call last)",
      "\u001b[1;32mc:\\Users\\rafae\\Documents\\GitHub\\faa-energy-prediction\\Energy Prediction.ipynb Cell 1\u001b[0m in \u001b[0;36m<cell line: 14>\u001b[1;34m()\u001b[0m\n\u001b[0;32m     <a href='vscode-notebook-cell:/c%3A/Users/rafae/Documents/GitHub/faa-energy-prediction/Energy%20Prediction.ipynb#W0sZmlsZQ%3D%3D?line=11'>12</a>\u001b[0m \u001b[39mfrom\u001b[39;00m \u001b[39msklearn\u001b[39;00m\u001b[39m.\u001b[39;00m\u001b[39mmetrics\u001b[39;00m \u001b[39mimport\u001b[39;00m mean_squared_error, r2_score, mean_absolute_error\n\u001b[0;32m     <a href='vscode-notebook-cell:/c%3A/Users/rafae/Documents/GitHub/faa-energy-prediction/Energy%20Prediction.ipynb#W0sZmlsZQ%3D%3D?line=12'>13</a>\u001b[0m \u001b[39mimport\u001b[39;00m \u001b[39mseaborn\u001b[39;00m \u001b[39mas\u001b[39;00m \u001b[39msns\u001b[39;00m\n\u001b[1;32m---> <a href='vscode-notebook-cell:/c%3A/Users/rafae/Documents/GitHub/faa-energy-prediction/Energy%20Prediction.ipynb#W0sZmlsZQ%3D%3D?line=13'>14</a>\u001b[0m \u001b[39mfrom\u001b[39;00m \u001b[39mkeras\u001b[39;00m\u001b[39m.\u001b[39;00m\u001b[39mlayers\u001b[39;00m \u001b[39mimport\u001b[39;00m LSTM\n\u001b[0;32m     <a href='vscode-notebook-cell:/c%3A/Users/rafae/Documents/GitHub/faa-energy-prediction/Energy%20Prediction.ipynb#W0sZmlsZQ%3D%3D?line=14'>15</a>\u001b[0m \u001b[39mfrom\u001b[39;00m \u001b[39mkeras\u001b[39;00m\u001b[39m.\u001b[39;00m\u001b[39mmodels\u001b[39;00m \u001b[39mimport\u001b[39;00m Sequential\n\u001b[0;32m     <a href='vscode-notebook-cell:/c%3A/Users/rafae/Documents/GitHub/faa-energy-prediction/Energy%20Prediction.ipynb#W0sZmlsZQ%3D%3D?line=15'>16</a>\u001b[0m \u001b[39mfrom\u001b[39;00m \u001b[39mkeras\u001b[39;00m\u001b[39m.\u001b[39;00m\u001b[39mlayers\u001b[39;00m \u001b[39mimport\u001b[39;00m Dense\n",
      "File \u001b[1;32mc:\\Users\\rafae\\anaconda3\\lib\\site-packages\\keras\\__init__.py:21\u001b[0m, in \u001b[0;36m<module>\u001b[1;34m\u001b[0m\n\u001b[0;32m     15\u001b[0m \u001b[39m\"\"\"Implementation of the Keras API, the high-level API of TensorFlow.\u001b[39;00m\n\u001b[0;32m     16\u001b[0m \n\u001b[0;32m     17\u001b[0m \u001b[39mDetailed documentation and user guides are available at\u001b[39;00m\n\u001b[0;32m     18\u001b[0m \u001b[39m[keras.io](https://keras.io).\u001b[39;00m\n\u001b[0;32m     19\u001b[0m \u001b[39m\"\"\"\u001b[39;00m\n\u001b[0;32m     20\u001b[0m \u001b[39mfrom\u001b[39;00m \u001b[39mkeras\u001b[39;00m \u001b[39mimport\u001b[39;00m distribute\n\u001b[1;32m---> 21\u001b[0m \u001b[39mfrom\u001b[39;00m \u001b[39mkeras\u001b[39;00m \u001b[39mimport\u001b[39;00m models\n\u001b[0;32m     22\u001b[0m \u001b[39mfrom\u001b[39;00m \u001b[39mkeras\u001b[39;00m\u001b[39m.\u001b[39;00m\u001b[39mengine\u001b[39;00m\u001b[39m.\u001b[39;00m\u001b[39minput_layer\u001b[39;00m \u001b[39mimport\u001b[39;00m Input\n\u001b[0;32m     23\u001b[0m \u001b[39mfrom\u001b[39;00m \u001b[39mkeras\u001b[39;00m\u001b[39m.\u001b[39;00m\u001b[39mengine\u001b[39;00m\u001b[39m.\u001b[39;00m\u001b[39msequential\u001b[39;00m \u001b[39mimport\u001b[39;00m Sequential\n",
      "File \u001b[1;32mc:\\Users\\rafae\\anaconda3\\lib\\site-packages\\keras\\models\\__init__.py:18\u001b[0m, in \u001b[0;36m<module>\u001b[1;34m\u001b[0m\n\u001b[0;32m      1\u001b[0m \u001b[39m# Copyright 2022 The TensorFlow Authors. All Rights Reserved.\u001b[39;00m\n\u001b[0;32m      2\u001b[0m \u001b[39m#\u001b[39;00m\n\u001b[0;32m      3\u001b[0m \u001b[39m# Licensed under the Apache License, Version 2.0 (the \"License\");\u001b[39;00m\n\u001b[1;32m   (...)\u001b[0m\n\u001b[0;32m     13\u001b[0m \u001b[39m# limitations under the License.\u001b[39;00m\n\u001b[0;32m     14\u001b[0m \u001b[39m# ==============================================================================\u001b[39;00m\n\u001b[0;32m     15\u001b[0m \u001b[39m\"\"\"Keras models API.\"\"\"\u001b[39;00m\n\u001b[1;32m---> 18\u001b[0m \u001b[39mfrom\u001b[39;00m \u001b[39mkeras\u001b[39;00m\u001b[39m.\u001b[39;00m\u001b[39mengine\u001b[39;00m\u001b[39m.\u001b[39;00m\u001b[39mfunctional\u001b[39;00m \u001b[39mimport\u001b[39;00m Functional\n\u001b[0;32m     19\u001b[0m \u001b[39mfrom\u001b[39;00m \u001b[39mkeras\u001b[39;00m\u001b[39m.\u001b[39;00m\u001b[39mengine\u001b[39;00m\u001b[39m.\u001b[39;00m\u001b[39msequential\u001b[39;00m \u001b[39mimport\u001b[39;00m Sequential\n\u001b[0;32m     20\u001b[0m \u001b[39mfrom\u001b[39;00m \u001b[39mkeras\u001b[39;00m\u001b[39m.\u001b[39;00m\u001b[39mengine\u001b[39;00m\u001b[39m.\u001b[39;00m\u001b[39mtraining\u001b[39;00m \u001b[39mimport\u001b[39;00m Model\n",
      "File \u001b[1;32mc:\\Users\\rafae\\anaconda3\\lib\\site-packages\\keras\\engine\\functional.py:24\u001b[0m, in \u001b[0;36m<module>\u001b[1;34m\u001b[0m\n\u001b[0;32m     21\u001b[0m \u001b[39mimport\u001b[39;00m \u001b[39mitertools\u001b[39;00m\n\u001b[0;32m     22\u001b[0m \u001b[39mimport\u001b[39;00m \u001b[39mwarnings\u001b[39;00m\n\u001b[1;32m---> 24\u001b[0m \u001b[39mimport\u001b[39;00m \u001b[39mtensorflow\u001b[39;00m\u001b[39m.\u001b[39;00m\u001b[39mcompat\u001b[39;00m\u001b[39m.\u001b[39;00m\u001b[39mv2\u001b[39;00m \u001b[39mas\u001b[39;00m \u001b[39mtf\u001b[39;00m\n\u001b[0;32m     26\u001b[0m \u001b[39mfrom\u001b[39;00m \u001b[39mkeras\u001b[39;00m \u001b[39mimport\u001b[39;00m backend\n\u001b[0;32m     27\u001b[0m \u001b[39mfrom\u001b[39;00m \u001b[39mkeras\u001b[39;00m\u001b[39m.\u001b[39;00m\u001b[39mdtensor\u001b[39;00m \u001b[39mimport\u001b[39;00m layout_map \u001b[39mas\u001b[39;00m layout_map_lib\n",
      "\u001b[1;31mModuleNotFoundError\u001b[0m: No module named 'tensorflow'"
     ]
    }
   ],
   "source": [
    "import warnings\n",
    "warnings.filterwarnings('ignore',category=FutureWarning)\n",
    "warnings.filterwarnings('ignore',category=DeprecationWarning)\n",
    "import numpy as np\n",
    "import pandas as pd\n",
    "import matplotlib.pyplot as plt\n",
    "from sklearn.model_selection import train_test_split, cross_val_score, cross_validate, KFold\n",
    "from sklearn.linear_model import LinearRegression\n",
    "from sklearn.feature_selection import SelectKBest\n",
    "import xgboost as xgb\n",
    "from sklearn.feature_selection import f_regression\n",
    "from sklearn.metrics import mean_squared_error, r2_score, mean_absolute_error\n",
    "import seaborn as sns\n",
    "from keras.layers import LSTM\n",
    "from keras.models import Sequential\n",
    "from keras.layers import Dense"
   ]
  },
  {
   "cell_type": "code",
   "execution_count": 25,
   "id": "89fc7c88",
   "metadata": {},
   "outputs": [
    {
     "data": {
      "text/plain": [
       "dict_keys(['Weather', 'Total Consumers'])"
      ]
     },
     "execution_count": 25,
     "metadata": {},
     "output_type": "execute_result"
    }
   ],
   "source": [
    "data = pd.read_excel(\"../Dataset.xlsx\", sheet_name=['Weather', 'Total Consumers'])\n",
    "data.keys()"
   ]
  },
  {
   "cell_type": "code",
   "execution_count": 26,
   "id": "cb26e319",
   "metadata": {},
   "outputs": [
    {
     "data": {
      "text/html": [
       "<div>\n",
       "<style scoped>\n",
       "    .dataframe tbody tr th:only-of-type {\n",
       "        vertical-align: middle;\n",
       "    }\n",
       "\n",
       "    .dataframe tbody tr th {\n",
       "        vertical-align: top;\n",
       "    }\n",
       "\n",
       "    .dataframe thead th {\n",
       "        text-align: right;\n",
       "    }\n",
       "</style>\n",
       "<table border=\"1\" class=\"dataframe\">\n",
       "  <thead>\n",
       "    <tr style=\"text-align: right;\">\n",
       "      <th></th>\n",
       "      <th>datetime</th>\n",
       "      <th>TemperatureC</th>\n",
       "      <th>DewpointC</th>\n",
       "      <th>PressurehPa</th>\n",
       "      <th>WindSpeedKMH</th>\n",
       "      <th>WindSpeedGustKMH</th>\n",
       "      <th>Humidity</th>\n",
       "      <th>HourlyPrecipMM</th>\n",
       "      <th>dailyrainMM</th>\n",
       "      <th>SolarRadiationWatts_m2</th>\n",
       "    </tr>\n",
       "  </thead>\n",
       "  <tbody>\n",
       "    <tr>\n",
       "      <th>0</th>\n",
       "      <td>2019-01-01 00:15:00.000</td>\n",
       "      <td>8</td>\n",
       "      <td>4</td>\n",
       "      <td>1030</td>\n",
       "      <td>5</td>\n",
       "      <td>7</td>\n",
       "      <td>76</td>\n",
       "      <td>0</td>\n",
       "      <td>0</td>\n",
       "      <td>0</td>\n",
       "    </tr>\n",
       "    <tr>\n",
       "      <th>1</th>\n",
       "      <td>2019-01-01 00:30:00.000</td>\n",
       "      <td>8</td>\n",
       "      <td>4</td>\n",
       "      <td>1030</td>\n",
       "      <td>3</td>\n",
       "      <td>6</td>\n",
       "      <td>76</td>\n",
       "      <td>0</td>\n",
       "      <td>0</td>\n",
       "      <td>0</td>\n",
       "    </tr>\n",
       "    <tr>\n",
       "      <th>2</th>\n",
       "      <td>2019-01-01 00:45:00.000</td>\n",
       "      <td>8</td>\n",
       "      <td>4</td>\n",
       "      <td>1030</td>\n",
       "      <td>4</td>\n",
       "      <td>6</td>\n",
       "      <td>78</td>\n",
       "      <td>0</td>\n",
       "      <td>0</td>\n",
       "      <td>0</td>\n",
       "    </tr>\n",
       "    <tr>\n",
       "      <th>3</th>\n",
       "      <td>2019-01-01 01:00:00.000</td>\n",
       "      <td>8</td>\n",
       "      <td>4</td>\n",
       "      <td>1030</td>\n",
       "      <td>3</td>\n",
       "      <td>6</td>\n",
       "      <td>78</td>\n",
       "      <td>0</td>\n",
       "      <td>0</td>\n",
       "      <td>0</td>\n",
       "    </tr>\n",
       "    <tr>\n",
       "      <th>4</th>\n",
       "      <td>2019-01-01 01:15:00.000</td>\n",
       "      <td>8</td>\n",
       "      <td>4</td>\n",
       "      <td>1030</td>\n",
       "      <td>2</td>\n",
       "      <td>8</td>\n",
       "      <td>78</td>\n",
       "      <td>0</td>\n",
       "      <td>0</td>\n",
       "      <td>0</td>\n",
       "    </tr>\n",
       "    <tr>\n",
       "      <th>...</th>\n",
       "      <td>...</td>\n",
       "      <td>...</td>\n",
       "      <td>...</td>\n",
       "      <td>...</td>\n",
       "      <td>...</td>\n",
       "      <td>...</td>\n",
       "      <td>...</td>\n",
       "      <td>...</td>\n",
       "      <td>...</td>\n",
       "      <td>...</td>\n",
       "    </tr>\n",
       "    <tr>\n",
       "      <th>35034</th>\n",
       "      <td>NaN</td>\n",
       "      <td>0</td>\n",
       "      <td>0</td>\n",
       "      <td>0</td>\n",
       "      <td>0</td>\n",
       "      <td>0</td>\n",
       "      <td>0</td>\n",
       "      <td>0</td>\n",
       "      <td>0</td>\n",
       "      <td>0</td>\n",
       "    </tr>\n",
       "    <tr>\n",
       "      <th>35035</th>\n",
       "      <td>NaN</td>\n",
       "      <td>0</td>\n",
       "      <td>0</td>\n",
       "      <td>0</td>\n",
       "      <td>0</td>\n",
       "      <td>0</td>\n",
       "      <td>0</td>\n",
       "      <td>0</td>\n",
       "      <td>0</td>\n",
       "      <td>0</td>\n",
       "    </tr>\n",
       "    <tr>\n",
       "      <th>35036</th>\n",
       "      <td>NaN</td>\n",
       "      <td>0</td>\n",
       "      <td>0</td>\n",
       "      <td>0</td>\n",
       "      <td>0</td>\n",
       "      <td>0</td>\n",
       "      <td>0</td>\n",
       "      <td>0</td>\n",
       "      <td>0</td>\n",
       "      <td>0</td>\n",
       "    </tr>\n",
       "    <tr>\n",
       "      <th>35037</th>\n",
       "      <td>NaN</td>\n",
       "      <td>0</td>\n",
       "      <td>0</td>\n",
       "      <td>0</td>\n",
       "      <td>0</td>\n",
       "      <td>0</td>\n",
       "      <td>0</td>\n",
       "      <td>0</td>\n",
       "      <td>0</td>\n",
       "      <td>0</td>\n",
       "    </tr>\n",
       "    <tr>\n",
       "      <th>35038</th>\n",
       "      <td>NaN</td>\n",
       "      <td>0</td>\n",
       "      <td>0</td>\n",
       "      <td>0</td>\n",
       "      <td>0</td>\n",
       "      <td>0</td>\n",
       "      <td>0</td>\n",
       "      <td>0</td>\n",
       "      <td>0</td>\n",
       "      <td>0</td>\n",
       "    </tr>\n",
       "  </tbody>\n",
       "</table>\n",
       "<p>35039 rows × 10 columns</p>\n",
       "</div>"
      ],
      "text/plain": [
       "                      datetime  TemperatureC  DewpointC  PressurehPa  \\\n",
       "0      2019-01-01 00:15:00.000             8          4         1030   \n",
       "1      2019-01-01 00:30:00.000             8          4         1030   \n",
       "2      2019-01-01 00:45:00.000             8          4         1030   \n",
       "3      2019-01-01 01:00:00.000             8          4         1030   \n",
       "4      2019-01-01 01:15:00.000             8          4         1030   \n",
       "...                        ...           ...        ...          ...   \n",
       "35034                      NaN             0          0            0   \n",
       "35035                      NaN             0          0            0   \n",
       "35036                      NaN             0          0            0   \n",
       "35037                      NaN             0          0            0   \n",
       "35038                      NaN             0          0            0   \n",
       "\n",
       "       WindSpeedKMH  WindSpeedGustKMH  Humidity  HourlyPrecipMM  dailyrainMM  \\\n",
       "0                 5                 7        76               0            0   \n",
       "1                 3                 6        76               0            0   \n",
       "2                 4                 6        78               0            0   \n",
       "3                 3                 6        78               0            0   \n",
       "4                 2                 8        78               0            0   \n",
       "...             ...               ...       ...             ...          ...   \n",
       "35034             0                 0         0               0            0   \n",
       "35035             0                 0         0               0            0   \n",
       "35036             0                 0         0               0            0   \n",
       "35037             0                 0         0               0            0   \n",
       "35038             0                 0         0               0            0   \n",
       "\n",
       "       SolarRadiationWatts_m2  \n",
       "0                           0  \n",
       "1                           0  \n",
       "2                           0  \n",
       "3                           0  \n",
       "4                           0  \n",
       "...                       ...  \n",
       "35034                       0  \n",
       "35035                       0  \n",
       "35036                       0  \n",
       "35037                       0  \n",
       "35038                       0  \n",
       "\n",
       "[35039 rows x 10 columns]"
      ]
     },
     "execution_count": 26,
     "metadata": {},
     "output_type": "execute_result"
    }
   ],
   "source": [
    "df_weather = data['Weather']\n",
    "df_tc = data['Total Consumers']\n",
    "df_weather"
   ]
  },
  {
   "cell_type": "code",
   "execution_count": 27,
   "id": "1f62e874",
   "metadata": {},
   "outputs": [
    {
     "data": {
      "text/plain": [
       "datetime                  22953\n",
       "TemperatureC                  0\n",
       "DewpointC                     0\n",
       "PressurehPa                   0\n",
       "WindSpeedKMH                  0\n",
       "WindSpeedGustKMH              0\n",
       "Humidity                      0\n",
       "HourlyPrecipMM                0\n",
       "dailyrainMM                   0\n",
       "SolarRadiationWatts_m2        0\n",
       "dtype: int64"
      ]
     },
     "execution_count": 27,
     "metadata": {},
     "output_type": "execute_result"
    }
   ],
   "source": [
    "df_weather.isnull().sum()"
   ]
  },
  {
   "cell_type": "code",
   "execution_count": 28,
   "id": "50001506",
   "metadata": {},
   "outputs": [
    {
     "data": {
      "text/html": [
       "<div>\n",
       "<style scoped>\n",
       "    .dataframe tbody tr th:only-of-type {\n",
       "        vertical-align: middle;\n",
       "    }\n",
       "\n",
       "    .dataframe tbody tr th {\n",
       "        vertical-align: top;\n",
       "    }\n",
       "\n",
       "    .dataframe thead th {\n",
       "        text-align: right;\n",
       "    }\n",
       "</style>\n",
       "<table border=\"1\" class=\"dataframe\">\n",
       "  <thead>\n",
       "    <tr style=\"text-align: right;\">\n",
       "      <th></th>\n",
       "      <th>0</th>\n",
       "      <th>1</th>\n",
       "      <th>2</th>\n",
       "      <th>3</th>\n",
       "      <th>4</th>\n",
       "      <th>5</th>\n",
       "      <th>6</th>\n",
       "      <th>7</th>\n",
       "      <th>8</th>\n",
       "      <th>9</th>\n",
       "      <th>...</th>\n",
       "      <th>41</th>\n",
       "      <th>42</th>\n",
       "      <th>43</th>\n",
       "      <th>44</th>\n",
       "      <th>45</th>\n",
       "      <th>46</th>\n",
       "      <th>47</th>\n",
       "      <th>48</th>\n",
       "      <th>49</th>\n",
       "      <th>50</th>\n",
       "    </tr>\n",
       "  </thead>\n",
       "  <tbody>\n",
       "    <tr>\n",
       "      <th>0</th>\n",
       "      <td>2.964</td>\n",
       "      <td>2.322959</td>\n",
       "      <td>1.544607</td>\n",
       "      <td>0.778310</td>\n",
       "      <td>1.962012</td>\n",
       "      <td>2.677445</td>\n",
       "      <td>0.237877</td>\n",
       "      <td>0.689194</td>\n",
       "      <td>0.358525</td>\n",
       "      <td>0.814643</td>\n",
       "      <td>...</td>\n",
       "      <td>0.898895</td>\n",
       "      <td>0.203825</td>\n",
       "      <td>0.221624</td>\n",
       "      <td>0.319531</td>\n",
       "      <td>0.830996</td>\n",
       "      <td>0.924987</td>\n",
       "      <td>0.219128</td>\n",
       "      <td>0.274880</td>\n",
       "      <td>0.990488</td>\n",
       "      <td>0.779475</td>\n",
       "    </tr>\n",
       "    <tr>\n",
       "      <th>1</th>\n",
       "      <td>2.584</td>\n",
       "      <td>2.371797</td>\n",
       "      <td>1.544607</td>\n",
       "      <td>0.778310</td>\n",
       "      <td>1.962012</td>\n",
       "      <td>2.733737</td>\n",
       "      <td>0.192929</td>\n",
       "      <td>0.558967</td>\n",
       "      <td>0.358525</td>\n",
       "      <td>0.660712</td>\n",
       "      <td>...</td>\n",
       "      <td>0.917793</td>\n",
       "      <td>0.165311</td>\n",
       "      <td>0.179747</td>\n",
       "      <td>0.319531</td>\n",
       "      <td>0.848467</td>\n",
       "      <td>0.944434</td>\n",
       "      <td>0.177722</td>\n",
       "      <td>0.222940</td>\n",
       "      <td>1.011313</td>\n",
       "      <td>0.795863</td>\n",
       "    </tr>\n",
       "    <tr>\n",
       "      <th>2</th>\n",
       "      <td>3.071</td>\n",
       "      <td>2.415961</td>\n",
       "      <td>1.319880</td>\n",
       "      <td>0.665072</td>\n",
       "      <td>1.676555</td>\n",
       "      <td>2.784640</td>\n",
       "      <td>0.382869</td>\n",
       "      <td>1.109272</td>\n",
       "      <td>0.377198</td>\n",
       "      <td>1.311186</td>\n",
       "      <td>...</td>\n",
       "      <td>0.934883</td>\n",
       "      <td>0.328060</td>\n",
       "      <td>0.356708</td>\n",
       "      <td>0.336174</td>\n",
       "      <td>0.864266</td>\n",
       "      <td>0.962019</td>\n",
       "      <td>0.352691</td>\n",
       "      <td>0.442426</td>\n",
       "      <td>1.030144</td>\n",
       "      <td>0.810682</td>\n",
       "    </tr>\n",
       "    <tr>\n",
       "      <th>3</th>\n",
       "      <td>2.694</td>\n",
       "      <td>2.302538</td>\n",
       "      <td>1.319880</td>\n",
       "      <td>0.665072</td>\n",
       "      <td>1.676555</td>\n",
       "      <td>2.653908</td>\n",
       "      <td>0.442052</td>\n",
       "      <td>1.280743</td>\n",
       "      <td>0.377198</td>\n",
       "      <td>1.513868</td>\n",
       "      <td>...</td>\n",
       "      <td>0.890992</td>\n",
       "      <td>0.378772</td>\n",
       "      <td>0.411848</td>\n",
       "      <td>0.336174</td>\n",
       "      <td>0.823691</td>\n",
       "      <td>0.916855</td>\n",
       "      <td>0.407209</td>\n",
       "      <td>0.510816</td>\n",
       "      <td>0.981781</td>\n",
       "      <td>0.772623</td>\n",
       "    </tr>\n",
       "    <tr>\n",
       "      <th>4</th>\n",
       "      <td>2.569</td>\n",
       "      <td>2.363063</td>\n",
       "      <td>0.913154</td>\n",
       "      <td>0.460128</td>\n",
       "      <td>1.159919</td>\n",
       "      <td>2.723669</td>\n",
       "      <td>0.192242</td>\n",
       "      <td>0.556976</td>\n",
       "      <td>0.668500</td>\n",
       "      <td>0.658358</td>\n",
       "      <td>...</td>\n",
       "      <td>0.914413</td>\n",
       "      <td>0.164722</td>\n",
       "      <td>0.179106</td>\n",
       "      <td>0.595793</td>\n",
       "      <td>0.845343</td>\n",
       "      <td>0.940956</td>\n",
       "      <td>0.177089</td>\n",
       "      <td>0.222146</td>\n",
       "      <td>1.007588</td>\n",
       "      <td>0.792932</td>\n",
       "    </tr>\n",
       "    <tr>\n",
       "      <th>...</th>\n",
       "      <td>...</td>\n",
       "      <td>...</td>\n",
       "      <td>...</td>\n",
       "      <td>...</td>\n",
       "      <td>...</td>\n",
       "      <td>...</td>\n",
       "      <td>...</td>\n",
       "      <td>...</td>\n",
       "      <td>...</td>\n",
       "      <td>...</td>\n",
       "      <td>...</td>\n",
       "      <td>...</td>\n",
       "      <td>...</td>\n",
       "      <td>...</td>\n",
       "      <td>...</td>\n",
       "      <td>...</td>\n",
       "      <td>...</td>\n",
       "      <td>...</td>\n",
       "      <td>...</td>\n",
       "      <td>...</td>\n",
       "      <td>...</td>\n",
       "    </tr>\n",
       "    <tr>\n",
       "      <th>35131</th>\n",
       "      <td>1.664</td>\n",
       "      <td>2.244719</td>\n",
       "      <td>1.455982</td>\n",
       "      <td>0.733653</td>\n",
       "      <td>1.849437</td>\n",
       "      <td>2.587266</td>\n",
       "      <td>0.205654</td>\n",
       "      <td>0.595835</td>\n",
       "      <td>0.171793</td>\n",
       "      <td>0.704291</td>\n",
       "      <td>...</td>\n",
       "      <td>0.868619</td>\n",
       "      <td>0.176214</td>\n",
       "      <td>0.191602</td>\n",
       "      <td>0.153109</td>\n",
       "      <td>0.803007</td>\n",
       "      <td>0.893832</td>\n",
       "      <td>0.189444</td>\n",
       "      <td>0.237645</td>\n",
       "      <td>0.957128</td>\n",
       "      <td>0.753222</td>\n",
       "    </tr>\n",
       "    <tr>\n",
       "      <th>35132</th>\n",
       "      <td>1.659</td>\n",
       "      <td>2.136340</td>\n",
       "      <td>1.201186</td>\n",
       "      <td>0.605264</td>\n",
       "      <td>1.525786</td>\n",
       "      <td>2.462348</td>\n",
       "      <td>0.201219</td>\n",
       "      <td>0.582985</td>\n",
       "      <td>0.067223</td>\n",
       "      <td>0.689101</td>\n",
       "      <td>...</td>\n",
       "      <td>0.826680</td>\n",
       "      <td>0.172414</td>\n",
       "      <td>0.187470</td>\n",
       "      <td>0.059912</td>\n",
       "      <td>0.764237</td>\n",
       "      <td>0.850676</td>\n",
       "      <td>0.185359</td>\n",
       "      <td>0.232519</td>\n",
       "      <td>0.910916</td>\n",
       "      <td>0.716855</td>\n",
       "    </tr>\n",
       "    <tr>\n",
       "      <th>35133</th>\n",
       "      <td>1.664</td>\n",
       "      <td>2.192805</td>\n",
       "      <td>1.201186</td>\n",
       "      <td>0.605264</td>\n",
       "      <td>1.525786</td>\n",
       "      <td>2.527430</td>\n",
       "      <td>0.228585</td>\n",
       "      <td>0.662271</td>\n",
       "      <td>0.067223</td>\n",
       "      <td>0.782819</td>\n",
       "      <td>...</td>\n",
       "      <td>0.848530</td>\n",
       "      <td>0.195862</td>\n",
       "      <td>0.212966</td>\n",
       "      <td>0.059912</td>\n",
       "      <td>0.784436</td>\n",
       "      <td>0.873160</td>\n",
       "      <td>0.210568</td>\n",
       "      <td>0.264142</td>\n",
       "      <td>0.934992</td>\n",
       "      <td>0.735802</td>\n",
       "    </tr>\n",
       "    <tr>\n",
       "      <th>35134</th>\n",
       "      <td>1.697</td>\n",
       "      <td>1.446083</td>\n",
       "      <td>0.259545</td>\n",
       "      <td>0.130782</td>\n",
       "      <td>0.329682</td>\n",
       "      <td>1.666757</td>\n",
       "      <td>0.189302</td>\n",
       "      <td>0.548459</td>\n",
       "      <td>0.070958</td>\n",
       "      <td>0.648292</td>\n",
       "      <td>...</td>\n",
       "      <td>0.559578</td>\n",
       "      <td>0.162203</td>\n",
       "      <td>0.176368</td>\n",
       "      <td>0.063241</td>\n",
       "      <td>0.517310</td>\n",
       "      <td>0.575820</td>\n",
       "      <td>0.174381</td>\n",
       "      <td>0.218749</td>\n",
       "      <td>0.616596</td>\n",
       "      <td>0.485237</td>\n",
       "    </tr>\n",
       "    <tr>\n",
       "      <th>35135</th>\n",
       "      <td>1.673</td>\n",
       "      <td>1.174827</td>\n",
       "      <td>0.259545</td>\n",
       "      <td>0.130782</td>\n",
       "      <td>0.329682</td>\n",
       "      <td>1.354107</td>\n",
       "      <td>0.208899</td>\n",
       "      <td>0.605235</td>\n",
       "      <td>0.070958</td>\n",
       "      <td>0.715402</td>\n",
       "      <td>...</td>\n",
       "      <td>0.454612</td>\n",
       "      <td>0.178994</td>\n",
       "      <td>0.194625</td>\n",
       "      <td>0.063241</td>\n",
       "      <td>0.420273</td>\n",
       "      <td>0.467808</td>\n",
       "      <td>0.192433</td>\n",
       "      <td>0.241394</td>\n",
       "      <td>0.500935</td>\n",
       "      <td>0.394216</td>\n",
       "    </tr>\n",
       "  </tbody>\n",
       "</table>\n",
       "<p>35136 rows × 51 columns</p>\n",
       "</div>"
      ],
      "text/plain": [
       "          0         1         2         3         4         5         6   \\\n",
       "0      2.964  2.322959  1.544607  0.778310  1.962012  2.677445  0.237877   \n",
       "1      2.584  2.371797  1.544607  0.778310  1.962012  2.733737  0.192929   \n",
       "2      3.071  2.415961  1.319880  0.665072  1.676555  2.784640  0.382869   \n",
       "3      2.694  2.302538  1.319880  0.665072  1.676555  2.653908  0.442052   \n",
       "4      2.569  2.363063  0.913154  0.460128  1.159919  2.723669  0.192242   \n",
       "...      ...       ...       ...       ...       ...       ...       ...   \n",
       "35131  1.664  2.244719  1.455982  0.733653  1.849437  2.587266  0.205654   \n",
       "35132  1.659  2.136340  1.201186  0.605264  1.525786  2.462348  0.201219   \n",
       "35133  1.664  2.192805  1.201186  0.605264  1.525786  2.527430  0.228585   \n",
       "35134  1.697  1.446083  0.259545  0.130782  0.329682  1.666757  0.189302   \n",
       "35135  1.673  1.174827  0.259545  0.130782  0.329682  1.354107  0.208899   \n",
       "\n",
       "             7         8         9   ...        41        42        43  \\\n",
       "0      0.689194  0.358525  0.814643  ...  0.898895  0.203825  0.221624   \n",
       "1      0.558967  0.358525  0.660712  ...  0.917793  0.165311  0.179747   \n",
       "2      1.109272  0.377198  1.311186  ...  0.934883  0.328060  0.356708   \n",
       "3      1.280743  0.377198  1.513868  ...  0.890992  0.378772  0.411848   \n",
       "4      0.556976  0.668500  0.658358  ...  0.914413  0.164722  0.179106   \n",
       "...         ...       ...       ...  ...       ...       ...       ...   \n",
       "35131  0.595835  0.171793  0.704291  ...  0.868619  0.176214  0.191602   \n",
       "35132  0.582985  0.067223  0.689101  ...  0.826680  0.172414  0.187470   \n",
       "35133  0.662271  0.067223  0.782819  ...  0.848530  0.195862  0.212966   \n",
       "35134  0.548459  0.070958  0.648292  ...  0.559578  0.162203  0.176368   \n",
       "35135  0.605235  0.070958  0.715402  ...  0.454612  0.178994  0.194625   \n",
       "\n",
       "             44        45        46        47        48        49        50  \n",
       "0      0.319531  0.830996  0.924987  0.219128  0.274880  0.990488  0.779475  \n",
       "1      0.319531  0.848467  0.944434  0.177722  0.222940  1.011313  0.795863  \n",
       "2      0.336174  0.864266  0.962019  0.352691  0.442426  1.030144  0.810682  \n",
       "3      0.336174  0.823691  0.916855  0.407209  0.510816  0.981781  0.772623  \n",
       "4      0.595793  0.845343  0.940956  0.177089  0.222146  1.007588  0.792932  \n",
       "...         ...       ...       ...       ...       ...       ...       ...  \n",
       "35131  0.153109  0.803007  0.893832  0.189444  0.237645  0.957128  0.753222  \n",
       "35132  0.059912  0.764237  0.850676  0.185359  0.232519  0.910916  0.716855  \n",
       "35133  0.059912  0.784436  0.873160  0.210568  0.264142  0.934992  0.735802  \n",
       "35134  0.063241  0.517310  0.575820  0.174381  0.218749  0.616596  0.485237  \n",
       "35135  0.063241  0.420273  0.467808  0.192433  0.241394  0.500935  0.394216  \n",
       "\n",
       "[35136 rows x 51 columns]"
      ]
     },
     "execution_count": 28,
     "metadata": {},
     "output_type": "execute_result"
    }
   ],
   "source": [
    "df_tc"
   ]
  },
  {
   "cell_type": "code",
   "execution_count": 56,
   "id": "9d2d703b",
   "metadata": {},
   "outputs": [
    {
     "data": {
      "text/html": [
       "<div>\n",
       "<style scoped>\n",
       "    .dataframe tbody tr th:only-of-type {\n",
       "        vertical-align: middle;\n",
       "    }\n",
       "\n",
       "    .dataframe tbody tr th {\n",
       "        vertical-align: top;\n",
       "    }\n",
       "\n",
       "    .dataframe thead th {\n",
       "        text-align: right;\n",
       "    }\n",
       "</style>\n",
       "<table border=\"1\" class=\"dataframe\">\n",
       "  <thead>\n",
       "    <tr style=\"text-align: right;\">\n",
       "      <th></th>\n",
       "      <th>Energy</th>\n",
       "    </tr>\n",
       "  </thead>\n",
       "  <tbody>\n",
       "    <tr>\n",
       "      <th>0</th>\n",
       "      <td>2.964</td>\n",
       "    </tr>\n",
       "    <tr>\n",
       "      <th>1</th>\n",
       "      <td>2.584</td>\n",
       "    </tr>\n",
       "    <tr>\n",
       "      <th>2</th>\n",
       "      <td>3.071</td>\n",
       "    </tr>\n",
       "    <tr>\n",
       "      <th>3</th>\n",
       "      <td>2.694</td>\n",
       "    </tr>\n",
       "    <tr>\n",
       "      <th>4</th>\n",
       "      <td>2.569</td>\n",
       "    </tr>\n",
       "    <tr>\n",
       "      <th>...</th>\n",
       "      <td>...</td>\n",
       "    </tr>\n",
       "    <tr>\n",
       "      <th>35131</th>\n",
       "      <td>1.664</td>\n",
       "    </tr>\n",
       "    <tr>\n",
       "      <th>35132</th>\n",
       "      <td>1.659</td>\n",
       "    </tr>\n",
       "    <tr>\n",
       "      <th>35133</th>\n",
       "      <td>1.664</td>\n",
       "    </tr>\n",
       "    <tr>\n",
       "      <th>35134</th>\n",
       "      <td>1.697</td>\n",
       "    </tr>\n",
       "    <tr>\n",
       "      <th>35135</th>\n",
       "      <td>1.673</td>\n",
       "    </tr>\n",
       "  </tbody>\n",
       "</table>\n",
       "<p>35136 rows × 1 columns</p>\n",
       "</div>"
      ],
      "text/plain": [
       "       Energy\n",
       "0       2.964\n",
       "1       2.584\n",
       "2       3.071\n",
       "3       2.694\n",
       "4       2.569\n",
       "...       ...\n",
       "35131   1.664\n",
       "35132   1.659\n",
       "35133   1.664\n",
       "35134   1.697\n",
       "35135   1.673\n",
       "\n",
       "[35136 rows x 1 columns]"
      ]
     },
     "execution_count": 56,
     "metadata": {},
     "output_type": "execute_result"
    }
   ],
   "source": [
    "df_energy = df_tc[0]\n",
    "df_energy = pd.DataFrame(df_energy)\n",
    "df_energy.columns = ['Energy']\n",
    "df_energy"
   ]
  },
  {
   "attachments": {},
   "cell_type": "markdown",
   "id": "0adc74e4",
   "metadata": {},
   "source": [
    "# Data description and visualization"
   ]
  },
  {
   "cell_type": "code",
   "execution_count": 30,
   "id": "9a386ee8",
   "metadata": {},
   "outputs": [
    {
     "data": {
      "text/html": [
       "<div>\n",
       "<style scoped>\n",
       "    .dataframe tbody tr th:only-of-type {\n",
       "        vertical-align: middle;\n",
       "    }\n",
       "\n",
       "    .dataframe tbody tr th {\n",
       "        vertical-align: top;\n",
       "    }\n",
       "\n",
       "    .dataframe thead th {\n",
       "        text-align: right;\n",
       "    }\n",
       "</style>\n",
       "<table border=\"1\" class=\"dataframe\">\n",
       "  <thead>\n",
       "    <tr style=\"text-align: right;\">\n",
       "      <th></th>\n",
       "      <th>TemperatureC</th>\n",
       "      <th>DewpointC</th>\n",
       "      <th>PressurehPa</th>\n",
       "      <th>WindSpeedKMH</th>\n",
       "      <th>WindSpeedGustKMH</th>\n",
       "      <th>Humidity</th>\n",
       "      <th>HourlyPrecipMM</th>\n",
       "      <th>dailyrainMM</th>\n",
       "      <th>SolarRadiationWatts_m2</th>\n",
       "    </tr>\n",
       "  </thead>\n",
       "  <tbody>\n",
       "    <tr>\n",
       "      <th>count</th>\n",
       "      <td>35039.000000</td>\n",
       "      <td>35039.000000</td>\n",
       "      <td>35039.000000</td>\n",
       "      <td>35039.000000</td>\n",
       "      <td>35039.000000</td>\n",
       "      <td>35039.000000</td>\n",
       "      <td>35039.000000</td>\n",
       "      <td>35039.000000</td>\n",
       "      <td>35039.000000</td>\n",
       "    </tr>\n",
       "    <tr>\n",
       "      <th>mean</th>\n",
       "      <td>4.407603</td>\n",
       "      <td>2.634864</td>\n",
       "      <td>351.724222</td>\n",
       "      <td>2.159451</td>\n",
       "      <td>4.580410</td>\n",
       "      <td>25.299352</td>\n",
       "      <td>0.031679</td>\n",
       "      <td>0.396530</td>\n",
       "      <td>54.006678</td>\n",
       "    </tr>\n",
       "    <tr>\n",
       "      <th>std</th>\n",
       "      <td>6.580961</td>\n",
       "      <td>4.152532</td>\n",
       "      <td>484.738175</td>\n",
       "      <td>4.197206</td>\n",
       "      <td>8.299569</td>\n",
       "      <td>36.329449</td>\n",
       "      <td>0.402516</td>\n",
       "      <td>2.217243</td>\n",
       "      <td>158.496986</td>\n",
       "    </tr>\n",
       "    <tr>\n",
       "      <th>min</th>\n",
       "      <td>0.000000</td>\n",
       "      <td>-4.000000</td>\n",
       "      <td>0.000000</td>\n",
       "      <td>0.000000</td>\n",
       "      <td>0.000000</td>\n",
       "      <td>0.000000</td>\n",
       "      <td>0.000000</td>\n",
       "      <td>0.000000</td>\n",
       "      <td>0.000000</td>\n",
       "    </tr>\n",
       "    <tr>\n",
       "      <th>25%</th>\n",
       "      <td>0.000000</td>\n",
       "      <td>0.000000</td>\n",
       "      <td>0.000000</td>\n",
       "      <td>0.000000</td>\n",
       "      <td>0.000000</td>\n",
       "      <td>0.000000</td>\n",
       "      <td>0.000000</td>\n",
       "      <td>0.000000</td>\n",
       "      <td>0.000000</td>\n",
       "    </tr>\n",
       "    <tr>\n",
       "      <th>50%</th>\n",
       "      <td>0.000000</td>\n",
       "      <td>0.000000</td>\n",
       "      <td>0.000000</td>\n",
       "      <td>0.000000</td>\n",
       "      <td>0.000000</td>\n",
       "      <td>0.000000</td>\n",
       "      <td>0.000000</td>\n",
       "      <td>0.000000</td>\n",
       "      <td>0.000000</td>\n",
       "    </tr>\n",
       "    <tr>\n",
       "      <th>75%</th>\n",
       "      <td>10.000000</td>\n",
       "      <td>6.000000</td>\n",
       "      <td>1016.000000</td>\n",
       "      <td>3.000000</td>\n",
       "      <td>6.000000</td>\n",
       "      <td>65.000000</td>\n",
       "      <td>0.000000</td>\n",
       "      <td>0.000000</td>\n",
       "      <td>0.000000</td>\n",
       "    </tr>\n",
       "    <tr>\n",
       "      <th>max</th>\n",
       "      <td>31.000000</td>\n",
       "      <td>16.000000</td>\n",
       "      <td>1035.000000</td>\n",
       "      <td>38.000000</td>\n",
       "      <td>58.000000</td>\n",
       "      <td>96.000000</td>\n",
       "      <td>17.000000</td>\n",
       "      <td>28.000000</td>\n",
       "      <td>1013.000000</td>\n",
       "    </tr>\n",
       "  </tbody>\n",
       "</table>\n",
       "</div>"
      ],
      "text/plain": [
       "       TemperatureC     DewpointC   PressurehPa  WindSpeedKMH  \\\n",
       "count  35039.000000  35039.000000  35039.000000  35039.000000   \n",
       "mean       4.407603      2.634864    351.724222      2.159451   \n",
       "std        6.580961      4.152532    484.738175      4.197206   \n",
       "min        0.000000     -4.000000      0.000000      0.000000   \n",
       "25%        0.000000      0.000000      0.000000      0.000000   \n",
       "50%        0.000000      0.000000      0.000000      0.000000   \n",
       "75%       10.000000      6.000000   1016.000000      3.000000   \n",
       "max       31.000000     16.000000   1035.000000     38.000000   \n",
       "\n",
       "       WindSpeedGustKMH      Humidity  HourlyPrecipMM   dailyrainMM  \\\n",
       "count      35039.000000  35039.000000    35039.000000  35039.000000   \n",
       "mean           4.580410     25.299352        0.031679      0.396530   \n",
       "std            8.299569     36.329449        0.402516      2.217243   \n",
       "min            0.000000      0.000000        0.000000      0.000000   \n",
       "25%            0.000000      0.000000        0.000000      0.000000   \n",
       "50%            0.000000      0.000000        0.000000      0.000000   \n",
       "75%            6.000000     65.000000        0.000000      0.000000   \n",
       "max           58.000000     96.000000       17.000000     28.000000   \n",
       "\n",
       "       SolarRadiationWatts_m2  \n",
       "count            35039.000000  \n",
       "mean                54.006678  \n",
       "std                158.496986  \n",
       "min                  0.000000  \n",
       "25%                  0.000000  \n",
       "50%                  0.000000  \n",
       "75%                  0.000000  \n",
       "max               1013.000000  "
      ]
     },
     "execution_count": 30,
     "metadata": {},
     "output_type": "execute_result"
    }
   ],
   "source": [
    "df_weather.describe()"
   ]
  },
  {
   "cell_type": "code",
   "execution_count": 31,
   "id": "1a78fd88",
   "metadata": {},
   "outputs": [
    {
     "data": {
      "text/plain": [
       "count    35136.000000\n",
       "mean         3.651607\n",
       "std          3.593802\n",
       "min          0.000000\n",
       "25%          2.660000\n",
       "50%          3.043000\n",
       "75%          3.889000\n",
       "max         49.256000\n",
       "Name: 0, dtype: float64"
      ]
     },
     "execution_count": 31,
     "metadata": {},
     "output_type": "execute_result"
    }
   ],
   "source": [
    "df_energy.describe()"
   ]
  },
  {
   "cell_type": "code",
   "execution_count": 32,
   "id": "382df684",
   "metadata": {},
   "outputs": [
    {
     "data": {
      "image/png": "[encoded data removed]",
      "text/plain": [
       "<Figure size 1440x1080 with 9 Axes>"
      ]
     },
     "metadata": {
      "needs_background": "light"
     },
     "output_type": "display_data"
    },
    {
     "data": {
      "image/png": "[encoded data removed]",
      "text/plain": [
       "<Figure size 1440x1080 with 1 Axes>"
      ]
     },
     "metadata": {
      "needs_background": "light"
     },
     "output_type": "display_data"
    }
   ],
   "source": [
    "df_weather.hist(bins=50, figsize=(20,15))\n",
    "plt.show()\n",
    "\n",
    "df_energy.hist(bins=50, figsize=(20,15))\n",
    "plt.show()"
   ]
  },
  {
   "cell_type": "markdown",
   "id": "6676106c",
   "metadata": {},
   "source": [
    "## Plot some data"
   ]
  },
  {
   "cell_type": "code",
   "execution_count": 33,
   "id": "6ee5ebce",
   "metadata": {},
   "outputs": [
    {
     "data": {
      "text/html": [
       "<div>\n",
       "<style scoped>\n",
       "    .dataframe tbody tr th:only-of-type {\n",
       "        vertical-align: middle;\n",
       "    }\n",
       "\n",
       "    .dataframe tbody tr th {\n",
       "        vertical-align: top;\n",
       "    }\n",
       "\n",
       "    .dataframe thead th {\n",
       "        text-align: right;\n",
       "    }\n",
       "</style>\n",
       "<table border=\"1\" class=\"dataframe\">\n",
       "  <thead>\n",
       "    <tr style=\"text-align: right;\">\n",
       "      <th></th>\n",
       "      <th>datetime</th>\n",
       "      <th>TemperatureC</th>\n",
       "      <th>DewpointC</th>\n",
       "      <th>PressurehPa</th>\n",
       "      <th>WindSpeedKMH</th>\n",
       "      <th>WindSpeedGustKMH</th>\n",
       "      <th>Humidity</th>\n",
       "      <th>HourlyPrecipMM</th>\n",
       "      <th>dailyrainMM</th>\n",
       "      <th>SolarRadiationWatts_m2</th>\n",
       "    </tr>\n",
       "  </thead>\n",
       "  <tbody>\n",
       "    <tr>\n",
       "      <th>0</th>\n",
       "      <td>2019-01-01 00:15:00.000</td>\n",
       "      <td>8</td>\n",
       "      <td>4</td>\n",
       "      <td>1030</td>\n",
       "      <td>5</td>\n",
       "      <td>7</td>\n",
       "      <td>76</td>\n",
       "      <td>0</td>\n",
       "      <td>0</td>\n",
       "      <td>0</td>\n",
       "    </tr>\n",
       "    <tr>\n",
       "      <th>1</th>\n",
       "      <td>2019-01-01 00:30:00.000</td>\n",
       "      <td>8</td>\n",
       "      <td>4</td>\n",
       "      <td>1030</td>\n",
       "      <td>3</td>\n",
       "      <td>6</td>\n",
       "      <td>76</td>\n",
       "      <td>0</td>\n",
       "      <td>0</td>\n",
       "      <td>0</td>\n",
       "    </tr>\n",
       "    <tr>\n",
       "      <th>2</th>\n",
       "      <td>2019-01-01 00:45:00.000</td>\n",
       "      <td>8</td>\n",
       "      <td>4</td>\n",
       "      <td>1030</td>\n",
       "      <td>4</td>\n",
       "      <td>6</td>\n",
       "      <td>78</td>\n",
       "      <td>0</td>\n",
       "      <td>0</td>\n",
       "      <td>0</td>\n",
       "    </tr>\n",
       "    <tr>\n",
       "      <th>3</th>\n",
       "      <td>2019-01-01 01:00:00.000</td>\n",
       "      <td>8</td>\n",
       "      <td>4</td>\n",
       "      <td>1030</td>\n",
       "      <td>3</td>\n",
       "      <td>6</td>\n",
       "      <td>78</td>\n",
       "      <td>0</td>\n",
       "      <td>0</td>\n",
       "      <td>0</td>\n",
       "    </tr>\n",
       "    <tr>\n",
       "      <th>4</th>\n",
       "      <td>2019-01-01 01:15:00.000</td>\n",
       "      <td>8</td>\n",
       "      <td>4</td>\n",
       "      <td>1030</td>\n",
       "      <td>2</td>\n",
       "      <td>8</td>\n",
       "      <td>78</td>\n",
       "      <td>0</td>\n",
       "      <td>0</td>\n",
       "      <td>0</td>\n",
       "    </tr>\n",
       "    <tr>\n",
       "      <th>...</th>\n",
       "      <td>...</td>\n",
       "      <td>...</td>\n",
       "      <td>...</td>\n",
       "      <td>...</td>\n",
       "      <td>...</td>\n",
       "      <td>...</td>\n",
       "      <td>...</td>\n",
       "      <td>...</td>\n",
       "      <td>...</td>\n",
       "      <td>...</td>\n",
       "    </tr>\n",
       "    <tr>\n",
       "      <th>12081</th>\n",
       "      <td>2019-05-17 23:00:00.000</td>\n",
       "      <td>12</td>\n",
       "      <td>8</td>\n",
       "      <td>1017</td>\n",
       "      <td>11</td>\n",
       "      <td>19</td>\n",
       "      <td>76</td>\n",
       "      <td>0</td>\n",
       "      <td>0</td>\n",
       "      <td>0</td>\n",
       "    </tr>\n",
       "    <tr>\n",
       "      <th>12082</th>\n",
       "      <td>2019-05-17 23:15:00.000</td>\n",
       "      <td>12</td>\n",
       "      <td>8</td>\n",
       "      <td>1016</td>\n",
       "      <td>11</td>\n",
       "      <td>17</td>\n",
       "      <td>76</td>\n",
       "      <td>0</td>\n",
       "      <td>0</td>\n",
       "      <td>0</td>\n",
       "    </tr>\n",
       "    <tr>\n",
       "      <th>12083</th>\n",
       "      <td>2019-05-17 23:30:00.000</td>\n",
       "      <td>12</td>\n",
       "      <td>8</td>\n",
       "      <td>1016</td>\n",
       "      <td>4</td>\n",
       "      <td>12</td>\n",
       "      <td>76</td>\n",
       "      <td>0</td>\n",
       "      <td>0</td>\n",
       "      <td>0</td>\n",
       "    </tr>\n",
       "    <tr>\n",
       "      <th>12084</th>\n",
       "      <td>2019-05-17 23:45:00.000</td>\n",
       "      <td>12</td>\n",
       "      <td>8</td>\n",
       "      <td>1016</td>\n",
       "      <td>3</td>\n",
       "      <td>14</td>\n",
       "      <td>76</td>\n",
       "      <td>0</td>\n",
       "      <td>0</td>\n",
       "      <td>0</td>\n",
       "    </tr>\n",
       "    <tr>\n",
       "      <th>12085</th>\n",
       "      <td>2019-05-18 00:00:00.000</td>\n",
       "      <td>12</td>\n",
       "      <td>8</td>\n",
       "      <td>1016</td>\n",
       "      <td>11</td>\n",
       "      <td>14</td>\n",
       "      <td>77</td>\n",
       "      <td>0</td>\n",
       "      <td>0</td>\n",
       "      <td>0</td>\n",
       "    </tr>\n",
       "  </tbody>\n",
       "</table>\n",
       "<p>12086 rows × 10 columns</p>\n",
       "</div>"
      ],
      "text/plain": [
       "                      datetime  TemperatureC  DewpointC  PressurehPa  \\\n",
       "0      2019-01-01 00:15:00.000             8          4         1030   \n",
       "1      2019-01-01 00:30:00.000             8          4         1030   \n",
       "2      2019-01-01 00:45:00.000             8          4         1030   \n",
       "3      2019-01-01 01:00:00.000             8          4         1030   \n",
       "4      2019-01-01 01:15:00.000             8          4         1030   \n",
       "...                        ...           ...        ...          ...   \n",
       "12081  2019-05-17 23:00:00.000            12          8         1017   \n",
       "12082  2019-05-17 23:15:00.000            12          8         1016   \n",
       "12083  2019-05-17 23:30:00.000            12          8         1016   \n",
       "12084  2019-05-17 23:45:00.000            12          8         1016   \n",
       "12085  2019-05-18 00:00:00.000            12          8         1016   \n",
       "\n",
       "       WindSpeedKMH  WindSpeedGustKMH  Humidity  HourlyPrecipMM  dailyrainMM  \\\n",
       "0                 5                 7        76               0            0   \n",
       "1                 3                 6        76               0            0   \n",
       "2                 4                 6        78               0            0   \n",
       "3                 3                 6        78               0            0   \n",
       "4                 2                 8        78               0            0   \n",
       "...             ...               ...       ...             ...          ...   \n",
       "12081            11                19        76               0            0   \n",
       "12082            11                17        76               0            0   \n",
       "12083             4                12        76               0            0   \n",
       "12084             3                14        76               0            0   \n",
       "12085            11                14        77               0            0   \n",
       "\n",
       "       SolarRadiationWatts_m2  \n",
       "0                           0  \n",
       "1                           0  \n",
       "2                           0  \n",
       "3                           0  \n",
       "4                           0  \n",
       "...                       ...  \n",
       "12081                       0  \n",
       "12082                       0  \n",
       "12083                       0  \n",
       "12084                       0  \n",
       "12085                       0  \n",
       "\n",
       "[12086 rows x 10 columns]"
      ]
     },
     "execution_count": 33,
     "metadata": {},
     "output_type": "execute_result"
    }
   ],
   "source": [
    "# Drop NaN values from weather dataset\n",
    "df_weather.dropna(axis=0, inplace=True)\n",
    "df_weather.reset_index(drop=True, inplace=True)\n",
    "df_weather"
   ]
  },
  {
   "cell_type": "code",
   "execution_count": 34,
   "id": "f4e5b4f2",
   "metadata": {},
   "outputs": [
    {
     "data": {
      "image/png": "[encoded data removed]",
      "text/plain": [
       "<Figure size 432x288 with 1 Axes>"
      ]
     },
     "metadata": {
      "needs_background": "light"
     },
     "output_type": "display_data"
    }
   ],
   "source": [
    "plt.scatter(df_weather['TemperatureC'], df_energy[0:df_weather['TemperatureC'].shape[0]])\n",
    "plt.xlabel('Temperature (C)') \n",
    "plt.ylabel('Energy Consumed (kWh)')\n",
    "plt.title('Comparison between Temperature and Energy Consumed in the Public Building')\n",
    "plt.show()"
   ]
  },
  {
   "cell_type": "code",
   "execution_count": 35,
   "id": "5e3d90e8",
   "metadata": {},
   "outputs": [
    {
     "data": {
      "image/png": "[encoded data removed]",
      "text/plain": [
       "<Figure size 432x288 with 1 Axes>"
      ]
     },
     "metadata": {
      "needs_background": "light"
     },
     "output_type": "display_data"
    }
   ],
   "source": [
    "plt.scatter(df_weather['SolarRadiationWatts_m2'], df_energy[0:df_weather['TemperatureC'].shape[0]])\n",
    "plt.xlabel('Radiation (W/m2)') \n",
    "plt.ylabel('Energy Consumed (kWh)')\n",
    "plt.title('Comparison between Solar Radiation and Energy Consumed in the Public Building')\n",
    "plt.show()"
   ]
  },
  {
   "attachments": {},
   "cell_type": "markdown",
   "id": "44043279",
   "metadata": {},
   "source": [
    "# Statistical analysis"
   ]
  },
  {
   "attachments": {},
   "cell_type": "markdown",
   "id": "4881e63c",
   "metadata": {},
   "source": [
    "## Correlation matrix"
   ]
  },
  {
   "cell_type": "code",
   "execution_count": 57,
   "id": "871669dc",
   "metadata": {},
   "outputs": [
    {
     "data": {
      "text/plain": [
       "<AxesSubplot:>"
      ]
     },
     "execution_count": 57,
     "metadata": {},
     "output_type": "execute_result"
    },
    {
     "data": {
      "image/png": "[encoded data removed]",
      "text/plain": [
       "<Figure size 432x288 with 2 Axes>"
      ]
     },
     "metadata": {
      "needs_background": "light"
     },
     "output_type": "display_data"
    }
   ],
   "source": [
    "df_energy = pd.DataFrame(df_energy, columns=['Energy'])\n",
    "df_merged = pd.concat([df_energy, df_weather], axis=1)\n",
    "corr=df_merged.corr()\n",
    "\n",
    "sns.heatmap(corr,cmap='coolwarm',annot=True)"
   ]
  },
  {
   "attachments": {},
   "cell_type": "markdown",
   "id": "c159a22e",
   "metadata": {},
   "source": [
    "## Correlation matrix with output variable"
   ]
  },
  {
   "cell_type": "code",
   "execution_count": 58,
   "id": "88071aa9",
   "metadata": {},
   "outputs": [],
   "source": [
    "cor_taget = abs(corr[\"Energy\"])"
   ]
  },
  {
   "attachments": {},
   "cell_type": "markdown",
   "id": "4b639dc6",
   "metadata": {},
   "source": [
    "## Selecting highly correlated features"
   ]
  },
  {
   "cell_type": "code",
   "execution_count": 59,
   "id": "13b37981",
   "metadata": {},
   "outputs": [
    {
     "data": {
      "text/plain": [
       "Energy    1.0\n",
       "Name: Energy, dtype: float64"
      ]
     },
     "execution_count": 59,
     "metadata": {},
     "output_type": "execute_result"
    }
   ],
   "source": [
    "relevant_features = cor_taget[cor_taget>0.5]\n",
    "relevant_features"
   ]
  },
  {
   "attachments": {},
   "cell_type": "markdown",
   "id": "57ca54d5",
   "metadata": {},
   "source": [
    "# Data preprocessing"
   ]
  },
  {
   "attachments": {},
   "cell_type": "markdown",
   "id": "e8751e02",
   "metadata": {},
   "source": [
    "## Data normalization"
   ]
  },
  {
   "cell_type": "code",
   "execution_count": 81,
   "id": "ad0bb73d",
   "metadata": {},
   "outputs": [],
   "source": [
    "from sklearn.preprocessing import MinMaxScaler\n",
    "\n",
    "scaler = MinMaxScaler()\n",
    "df_weather[['TemperatureC', 'SolarRadiationWatts_m2']] = scaler.fit_transform(df_weather[['TemperatureC', 'SolarRadiationWatts_m2']])\n",
    "df_energy[['Energy']] = scaler.fit_transform(df_energy[['Energy']])"
   ]
  },
  {
   "attachments": {},
   "cell_type": "markdown",
   "id": "ff6bf681",
   "metadata": {},
   "source": [
    "## Feature selection"
   ]
  },
  {
   "cell_type": "code",
   "execution_count": 82,
   "id": "0ec3f2c9",
   "metadata": {},
   "outputs": [],
   "source": [
    "X = df_weather[['TemperatureC', 'SolarRadiationWatts_m2']]\n",
    "y = df_energy['Energy']"
   ]
  },
  {
   "attachments": {},
   "cell_type": "markdown",
   "id": "66df85ae",
   "metadata": {},
   "source": [
    "## Dimensionality reduction (PCA)"
   ]
  },
  {
   "cell_type": "code",
   "execution_count": 83,
   "id": "aaf5ff74",
   "metadata": {},
   "outputs": [],
   "source": [
    "from sklearn.decomposition import PCA\n",
    "\n",
    "pca = PCA(n_components=1)\n",
    "X = pca.fit_transform(X)"
   ]
  },
  {
   "attachments": {},
   "cell_type": "markdown",
   "id": "9fc79665",
   "metadata": {},
   "source": [
    "### Check the explained variance ratio"
   ]
  },
  {
   "cell_type": "code",
   "execution_count": 84,
   "id": "785f4ac0",
   "metadata": {},
   "outputs": [
    {
     "name": "stdout",
     "output_type": "stream",
     "text": [
      "Explained Variance Ratio:  [0.83030848]\n"
     ]
    }
   ],
   "source": [
    "print(\"Explained Variance Ratio: \", pca.explained_variance_ratio_)"
   ]
  },
  {
   "cell_type": "markdown",
   "id": "bde17247",
   "metadata": {},
   "source": [
    "## Auxiliary functions"
   ]
  },
  {
   "cell_type": "code",
   "execution_count": 85,
   "id": "ce51c977",
   "metadata": {},
   "outputs": [],
   "source": [
    "def build_model(X_train: np.array, y_train: np.array, X_test: np.array, algorithm):\n",
    "    \n",
    "    model = algorithm\n",
    "    model.fit(X_train, y_train)\n",
    "    preds = model.predict(X_test)\n",
    "\n",
    "    return model, preds\n",
    "\n",
    "\n",
    "def plot_results(preds: np.array, actuals: np.array, title: str):\n",
    "    \n",
    "    plt.scatter(actuals, preds, c='b', label='predicted')\n",
    "    plt.xlabel('actual')\n",
    "    plt.ylabel('predicted')\n",
    "    plt.title(title)\n",
    "    plt.xlim(0, plt.xlim()[1])\n",
    "    plt.ylim(0, plt.ylim()[1])\n",
    "    _ = plt.plot([0, 100], [0, 100], '--r', label='y=x')\n",
    "    plt.legend()\n",
    "    plt.show()\n",
    "    \n",
    "    \n",
    "def performance_metrics(preds: np.array, actuals: np.array):\n",
    "\n",
    "    # calculate performance metrics\n",
    "    mse = mean_squared_error(actuals, preds)\n",
    "    rmse = np.sqrt(mse)\n",
    "    mae = mean_absolute_error(actuals, preds)\n",
    "    wmape = np.sum(np.abs(preds - actuals)) / np.sum(np.abs(actuals)) * 100\n",
    "    r2 = r2_score(actuals, preds)\n",
    "\n",
    "    # print performance metrics\n",
    "    print('MSE: %.4f' % mse)\n",
    "    print('RMSE: %.4f' % rmse)\n",
    "    print('MAE: %.4f' % mae)\n",
    "    print('WMAPE: %.4f' % wmape)\n",
    "    print('R2: %.4f' % r2)"
   ]
  },
  {
   "cell_type": "markdown",
   "id": "21840295",
   "metadata": {},
   "source": [
    "### First Model (all weather features)"
   ]
  },
  {
   "cell_type": "code",
   "execution_count": 86,
   "id": "8672f418",
   "metadata": {},
   "outputs": [
    {
     "data": {
      "text/html": [
       "<div>\n",
       "<style scoped>\n",
       "    .dataframe tbody tr th:only-of-type {\n",
       "        vertical-align: middle;\n",
       "    }\n",
       "\n",
       "    .dataframe tbody tr th {\n",
       "        vertical-align: top;\n",
       "    }\n",
       "\n",
       "    .dataframe thead th {\n",
       "        text-align: right;\n",
       "    }\n",
       "</style>\n",
       "<table border=\"1\" class=\"dataframe\">\n",
       "  <thead>\n",
       "    <tr style=\"text-align: right;\">\n",
       "      <th></th>\n",
       "      <th>TemperatureC</th>\n",
       "      <th>DewpointC</th>\n",
       "      <th>PressurehPa</th>\n",
       "      <th>WindSpeedKMH</th>\n",
       "      <th>WindSpeedGustKMH</th>\n",
       "      <th>Humidity</th>\n",
       "      <th>HourlyPrecipMM</th>\n",
       "      <th>dailyrainMM</th>\n",
       "      <th>SolarRadiationWatts_m2</th>\n",
       "    </tr>\n",
       "  </thead>\n",
       "  <tbody>\n",
       "    <tr>\n",
       "      <th>0</th>\n",
       "      <td>0.206897</td>\n",
       "      <td>4</td>\n",
       "      <td>1030</td>\n",
       "      <td>5</td>\n",
       "      <td>7</td>\n",
       "      <td>76</td>\n",
       "      <td>0</td>\n",
       "      <td>0</td>\n",
       "      <td>0.0</td>\n",
       "    </tr>\n",
       "    <tr>\n",
       "      <th>1</th>\n",
       "      <td>0.206897</td>\n",
       "      <td>4</td>\n",
       "      <td>1030</td>\n",
       "      <td>3</td>\n",
       "      <td>6</td>\n",
       "      <td>76</td>\n",
       "      <td>0</td>\n",
       "      <td>0</td>\n",
       "      <td>0.0</td>\n",
       "    </tr>\n",
       "    <tr>\n",
       "      <th>2</th>\n",
       "      <td>0.206897</td>\n",
       "      <td>4</td>\n",
       "      <td>1030</td>\n",
       "      <td>4</td>\n",
       "      <td>6</td>\n",
       "      <td>78</td>\n",
       "      <td>0</td>\n",
       "      <td>0</td>\n",
       "      <td>0.0</td>\n",
       "    </tr>\n",
       "    <tr>\n",
       "      <th>3</th>\n",
       "      <td>0.206897</td>\n",
       "      <td>4</td>\n",
       "      <td>1030</td>\n",
       "      <td>3</td>\n",
       "      <td>6</td>\n",
       "      <td>78</td>\n",
       "      <td>0</td>\n",
       "      <td>0</td>\n",
       "      <td>0.0</td>\n",
       "    </tr>\n",
       "    <tr>\n",
       "      <th>4</th>\n",
       "      <td>0.206897</td>\n",
       "      <td>4</td>\n",
       "      <td>1030</td>\n",
       "      <td>2</td>\n",
       "      <td>8</td>\n",
       "      <td>78</td>\n",
       "      <td>0</td>\n",
       "      <td>0</td>\n",
       "      <td>0.0</td>\n",
       "    </tr>\n",
       "    <tr>\n",
       "      <th>...</th>\n",
       "      <td>...</td>\n",
       "      <td>...</td>\n",
       "      <td>...</td>\n",
       "      <td>...</td>\n",
       "      <td>...</td>\n",
       "      <td>...</td>\n",
       "      <td>...</td>\n",
       "      <td>...</td>\n",
       "      <td>...</td>\n",
       "    </tr>\n",
       "    <tr>\n",
       "      <th>12081</th>\n",
       "      <td>0.344828</td>\n",
       "      <td>8</td>\n",
       "      <td>1017</td>\n",
       "      <td>11</td>\n",
       "      <td>19</td>\n",
       "      <td>76</td>\n",
       "      <td>0</td>\n",
       "      <td>0</td>\n",
       "      <td>0.0</td>\n",
       "    </tr>\n",
       "    <tr>\n",
       "      <th>12082</th>\n",
       "      <td>0.344828</td>\n",
       "      <td>8</td>\n",
       "      <td>1016</td>\n",
       "      <td>11</td>\n",
       "      <td>17</td>\n",
       "      <td>76</td>\n",
       "      <td>0</td>\n",
       "      <td>0</td>\n",
       "      <td>0.0</td>\n",
       "    </tr>\n",
       "    <tr>\n",
       "      <th>12083</th>\n",
       "      <td>0.344828</td>\n",
       "      <td>8</td>\n",
       "      <td>1016</td>\n",
       "      <td>4</td>\n",
       "      <td>12</td>\n",
       "      <td>76</td>\n",
       "      <td>0</td>\n",
       "      <td>0</td>\n",
       "      <td>0.0</td>\n",
       "    </tr>\n",
       "    <tr>\n",
       "      <th>12084</th>\n",
       "      <td>0.344828</td>\n",
       "      <td>8</td>\n",
       "      <td>1016</td>\n",
       "      <td>3</td>\n",
       "      <td>14</td>\n",
       "      <td>76</td>\n",
       "      <td>0</td>\n",
       "      <td>0</td>\n",
       "      <td>0.0</td>\n",
       "    </tr>\n",
       "    <tr>\n",
       "      <th>12085</th>\n",
       "      <td>0.344828</td>\n",
       "      <td>8</td>\n",
       "      <td>1016</td>\n",
       "      <td>11</td>\n",
       "      <td>14</td>\n",
       "      <td>77</td>\n",
       "      <td>0</td>\n",
       "      <td>0</td>\n",
       "      <td>0.0</td>\n",
       "    </tr>\n",
       "  </tbody>\n",
       "</table>\n",
       "<p>12086 rows × 9 columns</p>\n",
       "</div>"
      ],
      "text/plain": [
       "       TemperatureC  DewpointC  PressurehPa  WindSpeedKMH  WindSpeedGustKMH  \\\n",
       "0          0.206897          4         1030             5                 7   \n",
       "1          0.206897          4         1030             3                 6   \n",
       "2          0.206897          4         1030             4                 6   \n",
       "3          0.206897          4         1030             3                 6   \n",
       "4          0.206897          4         1030             2                 8   \n",
       "...             ...        ...          ...           ...               ...   \n",
       "12081      0.344828          8         1017            11                19   \n",
       "12082      0.344828          8         1016            11                17   \n",
       "12083      0.344828          8         1016             4                12   \n",
       "12084      0.344828          8         1016             3                14   \n",
       "12085      0.344828          8         1016            11                14   \n",
       "\n",
       "       Humidity  HourlyPrecipMM  dailyrainMM  SolarRadiationWatts_m2  \n",
       "0            76               0            0                     0.0  \n",
       "1            76               0            0                     0.0  \n",
       "2            78               0            0                     0.0  \n",
       "3            78               0            0                     0.0  \n",
       "4            78               0            0                     0.0  \n",
       "...         ...             ...          ...                     ...  \n",
       "12081        76               0            0                     0.0  \n",
       "12082        76               0            0                     0.0  \n",
       "12083        76               0            0                     0.0  \n",
       "12084        76               0            0                     0.0  \n",
       "12085        77               0            0                     0.0  \n",
       "\n",
       "[12086 rows x 9 columns]"
      ]
     },
     "execution_count": 86,
     "metadata": {},
     "output_type": "execute_result"
    }
   ],
   "source": [
    "# Remove Datetime because XGB doesn't allow categorical variables\n",
    "df_weather_no_date = df_weather.drop('datetime', axis=1, inplace=False)\n",
    "df_weather_no_date"
   ]
  },
  {
   "cell_type": "code",
   "execution_count": 87,
   "id": "488f4ac5",
   "metadata": {},
   "outputs": [
    {
     "data": {
      "text/html": [
       "<div>\n",
       "<style scoped>\n",
       "    .dataframe tbody tr th:only-of-type {\n",
       "        vertical-align: middle;\n",
       "    }\n",
       "\n",
       "    .dataframe tbody tr th {\n",
       "        vertical-align: top;\n",
       "    }\n",
       "\n",
       "    .dataframe thead th {\n",
       "        text-align: right;\n",
       "    }\n",
       "</style>\n",
       "<table border=\"1\" class=\"dataframe\">\n",
       "  <thead>\n",
       "    <tr style=\"text-align: right;\">\n",
       "      <th></th>\n",
       "      <th>Energy</th>\n",
       "    </tr>\n",
       "  </thead>\n",
       "  <tbody>\n",
       "    <tr>\n",
       "      <th>0</th>\n",
       "      <td>0.060175</td>\n",
       "    </tr>\n",
       "    <tr>\n",
       "      <th>1</th>\n",
       "      <td>0.052461</td>\n",
       "    </tr>\n",
       "    <tr>\n",
       "      <th>2</th>\n",
       "      <td>0.062348</td>\n",
       "    </tr>\n",
       "    <tr>\n",
       "      <th>3</th>\n",
       "      <td>0.054694</td>\n",
       "    </tr>\n",
       "    <tr>\n",
       "      <th>4</th>\n",
       "      <td>0.052156</td>\n",
       "    </tr>\n",
       "    <tr>\n",
       "      <th>...</th>\n",
       "      <td>...</td>\n",
       "    </tr>\n",
       "    <tr>\n",
       "      <th>12081</th>\n",
       "      <td>0.063241</td>\n",
       "    </tr>\n",
       "    <tr>\n",
       "      <th>12082</th>\n",
       "      <td>0.052704</td>\n",
       "    </tr>\n",
       "    <tr>\n",
       "      <th>12083</th>\n",
       "      <td>0.058937</td>\n",
       "    </tr>\n",
       "    <tr>\n",
       "      <th>12084</th>\n",
       "      <td>0.056623</td>\n",
       "    </tr>\n",
       "    <tr>\n",
       "      <th>12085</th>\n",
       "      <td>0.057739</td>\n",
       "    </tr>\n",
       "  </tbody>\n",
       "</table>\n",
       "<p>12086 rows × 1 columns</p>\n",
       "</div>"
      ],
      "text/plain": [
       "         Energy\n",
       "0      0.060175\n",
       "1      0.052461\n",
       "2      0.062348\n",
       "3      0.054694\n",
       "4      0.052156\n",
       "...         ...\n",
       "12081  0.063241\n",
       "12082  0.052704\n",
       "12083  0.058937\n",
       "12084  0.056623\n",
       "12085  0.057739\n",
       "\n",
       "[12086 rows x 1 columns]"
      ]
     },
     "execution_count": 87,
     "metadata": {},
     "output_type": "execute_result"
    }
   ],
   "source": [
    "# Transform energy dataset to be the same size as the weather one\n",
    "df_energy_new = df_energy[0:df_weather.shape[0]]\n",
    "#X = df_weather_no_date\n",
    "y = df_energy_new\n",
    "df_energy_new"
   ]
  },
  {
   "cell_type": "markdown",
   "id": "93c3cef1",
   "metadata": {},
   "source": [
    "## Train and Predict Models"
   ]
  },
  {
   "cell_type": "code",
   "execution_count": 88,
   "id": "bd21d788",
   "metadata": {},
   "outputs": [],
   "source": [
    "#Linear Regression\n",
    "X_train_lr, X_test_lr, y_train_lr, y_test_lr = train_test_split(X, y, test_size=0.2, random_state=42)\n",
    "model_lr, preds_lr = build_model(X_train_lr, y_train_lr, X_test_lr, LinearRegression())"
   ]
  },
  {
   "cell_type": "code",
   "execution_count": 89,
   "id": "0b737491",
   "metadata": {},
   "outputs": [
    {
     "ename": "NameError",
     "evalue": "name 'Sequential' is not defined",
     "output_type": "error",
     "traceback": [
      "\u001b[1;31m---------------------------------------------------------------------------\u001b[0m",
      "\u001b[1;31mNameError\u001b[0m                                 Traceback (most recent call last)",
      "\u001b[1;32mc:\\Users\\rafae\\Documents\\GitHub\\faa-energy-prediction\\Energy Prediction.ipynb Cell 38\u001b[0m in \u001b[0;36m<cell line: 3>\u001b[1;34m()\u001b[0m\n\u001b[0;32m      <a href='vscode-notebook-cell:/c%3A/Users/rafae/Documents/GitHub/faa-energy-prediction/Energy%20Prediction.ipynb#X23sZmlsZQ%3D%3D?line=0'>1</a>\u001b[0m \u001b[39m#Lstm\u001b[39;00m\n\u001b[0;32m      <a href='vscode-notebook-cell:/c%3A/Users/rafae/Documents/GitHub/faa-energy-prediction/Energy%20Prediction.ipynb#X23sZmlsZQ%3D%3D?line=1'>2</a>\u001b[0m X_train_lstm, X_test_lstm, y_train_lstm, y_test_lstm \u001b[39m=\u001b[39m train_test_split(X, y, test_size\u001b[39m=\u001b[39m\u001b[39m0.2\u001b[39m, random_state\u001b[39m=\u001b[39m\u001b[39m42\u001b[39m)\n\u001b[1;32m----> <a href='vscode-notebook-cell:/c%3A/Users/rafae/Documents/GitHub/faa-energy-prediction/Energy%20Prediction.ipynb#X23sZmlsZQ%3D%3D?line=2'>3</a>\u001b[0m model_lstm \u001b[39m=\u001b[39m Sequential()\n\u001b[0;32m      <a href='vscode-notebook-cell:/c%3A/Users/rafae/Documents/GitHub/faa-energy-prediction/Energy%20Prediction.ipynb#X23sZmlsZQ%3D%3D?line=3'>4</a>\u001b[0m model_lstm\u001b[39m.\u001b[39madd(LSTM(\u001b[39m50\u001b[39m, activation\u001b[39m=\u001b[39m\u001b[39m'\u001b[39m\u001b[39mrelu\u001b[39m\u001b[39m'\u001b[39m, input_shape\u001b[39m=\u001b[39m(X_train_lstm\u001b[39m.\u001b[39mshape[\u001b[39m1\u001b[39m], X_train_lstm\u001b[39m.\u001b[39mshape[\u001b[39m2\u001b[39m])))\n\u001b[0;32m      <a href='vscode-notebook-cell:/c%3A/Users/rafae/Documents/GitHub/faa-energy-prediction/Energy%20Prediction.ipynb#X23sZmlsZQ%3D%3D?line=4'>5</a>\u001b[0m model_lstm\u001b[39m.\u001b[39madd(Dense(\u001b[39m1\u001b[39m))\n",
      "\u001b[1;31mNameError\u001b[0m: name 'Sequential' is not defined"
     ]
    }
   ],
   "source": [
    "#Lstm\n",
    "X_train_lstm, X_test_lstm, y_train_lstm, y_test_lstm = train_test_split(X, y, test_size=0.2, random_state=42)\n",
    "model_lstm = Sequential()\n",
    "model_lstm.add(LSTM(50, activation='relu', input_shape=(X_train_lstm.shape[1], X_train_lstm.shape[2])))\n",
    "model_lstm.add(Dense(1))\n",
    "model_lstm.compile(optimizer='adam', loss='mse')\n",
    "model_lstm.fit(X_train_lstm, y_train_lstm, epochs=100, verbose=0)\n",
    "\n",
    "preds_lstm = model_lstm.predict(X_test_lstm)"
   ]
  },
  {
   "cell_type": "code",
   "execution_count": null,
   "id": "e3f32734",
   "metadata": {},
   "outputs": [],
   "source": [
    "#XGBoost\n",
    "X_train_xgb, X_test_xgb, y_train_xgb, y_test_xgb = train_test_split(X, y, test_size=0.2, random_state=42)\n",
    "model_xgb, preds_xgb = build_model(X_train_xgb, y_train_xgb, X_test_xgb, xgb.XGBRegressor(max_depth=5, learning_rate=0.1, n_estimators=100, verbosity=1, seed=42))"
   ]
  },
  {
   "cell_type": "markdown",
   "id": "e423feaf",
   "metadata": {},
   "source": [
    "## Plot Models and Show Performance Metrics"
   ]
  },
  {
   "cell_type": "code",
   "execution_count": null,
   "id": "f346b51b",
   "metadata": {},
   "outputs": [
    {
     "data": {
      "image/png": "[encoded data removed]",
      "text/plain": [
       "<Figure size 864x576 with 1 Axes>"
      ]
     },
     "metadata": {
      "needs_background": "light"
     },
     "output_type": "display_data"
    }
   ],
   "source": [
    "plt.figure(figsize=(12, 8))\n",
    "\n",
    "plot_results(preds_lr, y_test_lr, 'Linear Regression')"
   ]
  },
  {
   "cell_type": "code",
   "execution_count": null,
   "id": "0abb795f",
   "metadata": {},
   "outputs": [
    {
     "name": "stdout",
     "output_type": "stream",
     "text": [
      "Linear Regression Model\n",
      "MSE: 2.2136\n",
      "RMSE: 1.4878\n",
      "MAE: 1.1364\n",
      "WMAPE: 72161.6877\n",
      "R2: -0.0002\n"
     ]
    }
   ],
   "source": [
    "print(\"Linear Regression Model\")\n",
    "performance_metrics(preds_lr, y_test_lr.values.reshape(-1))"
   ]
  },
  {
   "cell_type": "code",
   "execution_count": null,
   "id": "c3287ac2",
   "metadata": {},
   "outputs": [
    {
     "ename": "NameError",
     "evalue": "name 'preds_lstm' is not defined",
     "output_type": "error",
     "traceback": [
      "\u001b[1;31m---------------------------------------------------------------------------\u001b[0m",
      "\u001b[1;31mNameError\u001b[0m                                 Traceback (most recent call last)",
      "\u001b[1;32mc:\\Users\\rafae\\Documents\\GitHub\\faa-energy-prediction\\Energy Prediction.ipynb Cell 43\u001b[0m in \u001b[0;36m<cell line: 3>\u001b[1;34m()\u001b[0m\n\u001b[0;32m      <a href='vscode-notebook-cell:/c%3A/Users/rafae/Documents/GitHub/faa-energy-prediction/Energy%20Prediction.ipynb#X31sZmlsZQ%3D%3D?line=0'>1</a>\u001b[0m plt\u001b[39m.\u001b[39mfigure(figsize\u001b[39m=\u001b[39m(\u001b[39m12\u001b[39m, \u001b[39m8\u001b[39m))\n\u001b[1;32m----> <a href='vscode-notebook-cell:/c%3A/Users/rafae/Documents/GitHub/faa-energy-prediction/Energy%20Prediction.ipynb#X31sZmlsZQ%3D%3D?line=2'>3</a>\u001b[0m plot_results(preds_lstm, y_test_lstm, \u001b[39m'\u001b[39m\u001b[39mLSTM\u001b[39m\u001b[39m'\u001b[39m)\n",
      "\u001b[1;31mNameError\u001b[0m: name 'preds_lstm' is not defined"
     ]
    },
    {
     "data": {
      "text/plain": [
       "<Figure size 864x576 with 0 Axes>"
      ]
     },
     "metadata": {},
     "output_type": "display_data"
    }
   ],
   "source": [
    "plt.figure(figsize=(12, 8))\n",
    "\n",
    "plot_results(preds_lstm, y_test_lstm, 'LSTM')"
   ]
  },
  {
   "cell_type": "code",
   "execution_count": null,
   "id": "d1a40b46",
   "metadata": {},
   "outputs": [
    {
     "name": "stdout",
     "output_type": "stream",
     "text": [
      "LSTM Model\n"
     ]
    },
    {
     "ename": "NameError",
     "evalue": "name 'preds_lstm' is not defined",
     "output_type": "error",
     "traceback": [
      "\u001b[1;31m---------------------------------------------------------------------------\u001b[0m",
      "\u001b[1;31mNameError\u001b[0m                                 Traceback (most recent call last)",
      "\u001b[1;32mc:\\Users\\rafae\\Documents\\GitHub\\faa-energy-prediction\\Energy Prediction.ipynb Cell 44\u001b[0m in \u001b[0;36m<cell line: 2>\u001b[1;34m()\u001b[0m\n\u001b[0;32m      <a href='vscode-notebook-cell:/c%3A/Users/rafae/Documents/GitHub/faa-energy-prediction/Energy%20Prediction.ipynb#X32sZmlsZQ%3D%3D?line=0'>1</a>\u001b[0m \u001b[39mprint\u001b[39m(\u001b[39m\"\u001b[39m\u001b[39mLSTM Model\u001b[39m\u001b[39m\"\u001b[39m)\n\u001b[1;32m----> <a href='vscode-notebook-cell:/c%3A/Users/rafae/Documents/GitHub/faa-energy-prediction/Energy%20Prediction.ipynb#X32sZmlsZQ%3D%3D?line=1'>2</a>\u001b[0m performance_metrics(preds_lstm, y_test_lstm\u001b[39m.\u001b[39mvalues\u001b[39m.\u001b[39mreshape(\u001b[39m-\u001b[39m\u001b[39m1\u001b[39m))\n",
      "\u001b[1;31mNameError\u001b[0m: name 'preds_lstm' is not defined"
     ]
    }
   ],
   "source": [
    "print(\"LSTM Model\")\n",
    "performance_metrics(preds_lstm, y_test_lstm.values.reshape(-1))"
   ]
  },
  {
   "cell_type": "code",
   "execution_count": null,
   "id": "18310539",
   "metadata": {},
   "outputs": [
    {
     "data": {
      "image/png": "[encoded data removed]",
      "text/plain": [
       "<Figure size 864x576 with 1 Axes>"
      ]
     },
     "metadata": {
      "needs_background": "light"
     },
     "output_type": "display_data"
    }
   ],
   "source": [
    "plt.figure(figsize=(12, 8))\n",
    "\n",
    "plot_results(preds_xgb, y_test_xgb, 'XGBoost')"
   ]
  },
  {
   "cell_type": "code",
   "execution_count": null,
   "id": "0856cd81",
   "metadata": {},
   "outputs": [
    {
     "name": "stdout",
     "output_type": "stream",
     "text": [
      "XGBoost Model\n",
      "MSE: 2.2163\n",
      "RMSE: 1.4887\n",
      "MAE: 1.1215\n",
      "WMAPE: 29.4587\n",
      "R2: -0.0015\n"
     ]
    }
   ],
   "source": [
    "print(\"XGBoost Model\")\n",
    "performance_metrics(preds_xgb, y_test_xgb.values.reshape(-1))"
   ]
  },
  {
   "cell_type": "markdown",
   "id": "8554edc8",
   "metadata": {},
   "source": [
    "## Cross Validation"
   ]
  },
  {
   "cell_type": "code",
   "execution_count": null,
   "id": "b490a43c",
   "metadata": {},
   "outputs": [],
   "source": [
    "def cv_validate(classifier, X, y, k):\n",
    "    scores = cross_validate(classifier, X, y, cv=KFold(n_splits=k, shuffle=True), scoring='neg_mean_squared_error', return_estimator=True)\n",
    "    print(\"MSE: %0.2f +- %0.2f\" % (scores['test_score'].mean(), scores['test_score'].std()))\n",
    "    return scores"
   ]
  },
  {
   "cell_type": "code",
   "execution_count": null,
   "id": "df6e10c0",
   "metadata": {},
   "outputs": [
    {
     "name": "stdout",
     "output_type": "stream",
     "text": [
      "MSE: -2.34 +- 0.15\n"
     ]
    }
   ],
   "source": [
    "scores = cv_validate(LinearRegression(), X_train_lr, y_train_lr, 10)"
   ]
  },
  {
   "cell_type": "code",
   "execution_count": null,
   "id": "e275e9c4",
   "metadata": {},
   "outputs": [
    {
     "ename": "NameError",
     "evalue": "name 'Sequential' is not defined",
     "output_type": "error",
     "traceback": [
      "\u001b[1;31m---------------------------------------------------------------------------\u001b[0m",
      "\u001b[1;31mNameError\u001b[0m                                 Traceback (most recent call last)",
      "\u001b[1;32mc:\\Users\\rafae\\Documents\\GitHub\\faa-energy-prediction\\Energy Prediction.ipynb Cell 50\u001b[0m in \u001b[0;36m<cell line: 1>\u001b[1;34m()\u001b[0m\n\u001b[1;32m----> <a href='vscode-notebook-cell:/c%3A/Users/rafae/Documents/GitHub/faa-energy-prediction/Energy%20Prediction.ipynb#X41sZmlsZQ%3D%3D?line=0'>1</a>\u001b[0m scores \u001b[39m=\u001b[39m cv_validate(Sequential(), X_train_lstm, y_train_lstm, \u001b[39m10\u001b[39m)\n",
      "\u001b[1;31mNameError\u001b[0m: name 'Sequential' is not defined"
     ]
    }
   ],
   "source": [
    "scores = cv_validate(Sequential(), X_train_lstm, y_train_lstm, 10)"
   ]
  },
  {
   "cell_type": "code",
   "execution_count": null,
   "id": "07212cdf",
   "metadata": {},
   "outputs": [
    {
     "name": "stdout",
     "output_type": "stream",
     "text": [
      "MSE: -1.27 +- 0.09\n"
     ]
    }
   ],
   "source": [
    "scores = cv_validate(xgb.XGBRegressor(max_depth=5, learning_rate=0.1, n_estimators=100, verbosity=1, seed=42), X_train_xgb, y_train_xgb, 10)"
   ]
  }
 ],
 "metadata": {
  "kernelspec": {
   "display_name": "base",
   "language": "python",
   "name": "python3"
  },
  "language_info": {
   "codemirror_mode": {
    "name": "ipython",
    "version": 3
   },
   "file_extension": ".py",
   "mimetype": "text/x-python",
   "name": "python",
   "nbconvert_exporter": "python",
   "pygments_lexer": "ipython3",
   "version": "3.9.12"
  },
  "vscode": {
   "interpreter": {
    "hash": "5321d52f472d9d44fe580412eb4884ad344a6c2d5efe9a2fa6eec8e499dc231d"
   }
  }
 },
 "nbformat": 4,
 "nbformat_minor": 5
}
